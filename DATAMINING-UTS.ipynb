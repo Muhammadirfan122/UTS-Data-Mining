{
 "cells": [
  {
   "cell_type": "markdown",
   "id": "3678337d-1cda-4bbb-94d7-6013916933a8",
   "metadata": {},
   "source": [
    "##NOMOR 1##"
   ]
  },
  {
   "cell_type": "code",
   "execution_count": 1,
   "id": "8a05f819-cb51-40f6-a547-7140c6800624",
   "metadata": {},
   "outputs": [
    {
     "name": "stdout",
     "output_type": "stream",
     "text": [
      "Name: Company 2, Domain: Construction\n",
      "Name: Company 3, Domain: Healthcare\n",
      "Name: Company 1, Domain: Retail\n"
     ]
    }
   ],
   "source": [
    "company_detail_list = {\n",
    "    'Company 1': {\n",
    "        'name': 'Company 1',\n",
    "        'domain': 'Retail',\n",
    "        'clients': [\n",
    "            {\n",
    "                'name': 'acme.inc',\n",
    "                'country': 'united states'\n",
    "            },\n",
    "            {\n",
    "                'name': 'Wayne.co',\n",
    "                'country': 'united states'\n",
    "            }\n",
    "        ]\n",
    "    },\n",
    "    'Company 2': {\n",
    "        'name': 'Company 2',\n",
    "        'domain': 'Construction',\n",
    "        'clients': [\n",
    "            {\n",
    "                'name': 'Tesla',\n",
    "                'country': 'united states'\n",
    "            },\n",
    "            {\n",
    "                'name': 'Japan Airlines',\n",
    "                'country': 'japan'\n",
    "            },\n",
    "            {\n",
    "                'name': 'Indofood',\n",
    "                'country': 'indonesia'\n",
    "            }\n",
    "        ]\n",
    "    },\n",
    "    'Company 3': {\n",
    "        'name': 'Company 3',\n",
    "        'domain': 'Healthcare',\n",
    "        'clients': [\n",
    "            {\n",
    "                'name': 'Petronas',\n",
    "                'country': 'malaysia'\n",
    "            },\n",
    "            {\n",
    "                'name': 'VW Group',\n",
    "                'country': 'germany'\n",
    "            },\n",
    "            {\n",
    "                'name': 'IBM',\n",
    "                'country': 'united states'\n",
    "            },\n",
    "            {\n",
    "                'name': 'Mitsubishi',\n",
    "                'country': 'japan'\n",
    "            }\n",
    "        ]\n",
    "    }\n",
    "}\n",
    "def sort_company():\n",
    "    sorted_companies = sorted(\n",
    "        [{'name': details['name'], 'domain': details['domain']} \n",
    "         for key, details in company_detail_list.items()],\n",
    "        key=lambda x: x['domain'],\n",
    "        reverse=False\n",
    "    )\n",
    "    for company in sorted_companies:\n",
    "        print(f\"Name: {company['name']}, Domain: {company['domain']}\")\n",
    "\n",
    "sort_company()"
   ]
  },
  {
   "cell_type": "markdown",
   "id": "606267ad-a756-49c1-8525-a1f392cf3b9b",
   "metadata": {},
   "source": [
    "##NOMOR2##"
   ]
  },
  {
   "cell_type": "code",
   "execution_count": 2,
   "id": "f46bfbc0-5939-473c-a3e7-781a51adaa19",
   "metadata": {},
   "outputs": [
    {
     "name": "stdout",
     "output_type": "stream",
     "text": [
      "Company 1: Retail, relation: 2 clients\n",
      "Company 2: Construction, relation: 3 clients\n",
      "Company 3: Healthcare, relation: 4 clients\n"
     ]
    }
   ],
   "source": [
    "def get_company_domain():\n",
    "    company_info = {}\n",
    "    for company_name, details in company_detail_list.items():\n",
    "        domain = details['domain']\n",
    "        number_of_clients = len(details['clients'])\n",
    "        company_info[company_name] = f\"{domain}, relation: {number_of_clients} clients\"\n",
    "    return company_info\n",
    "\n",
    "company_domains = get_company_domain()\n",
    "for company, info in company_domains.items():\n",
    "    print(f\"{company}: {info}\")"
   ]
  },
  {
   "cell_type": "markdown",
   "id": "9ad16c80-6784-4ae2-a3a1-de80d3027cd8",
   "metadata": {},
   "source": [
    "##NOMOR3##"
   ]
  },
  {
   "cell_type": "code",
   "execution_count": 4,
   "id": "0310b1aa-d11b-49c6-8c58-f489440b7cce",
   "metadata": {},
   "outputs": [
    {
     "name": "stdout",
     "output_type": "stream",
     "text": [
      "Nama_Lengkap: John Doe\n",
      "Nama_Perusahaan: Company 1\n",
      "Nama_Domain: Retail\n",
      "\n",
      "Nama_Lengkap: Tom Smith\n",
      "Nama_Perusahaan: Company 2\n",
      "Nama_Domain: Construction\n",
      "\n",
      "Nama_Lengkap: Andrew Sebastian\n",
      "Nama_Perusahaan: Company 2\n",
      "Nama_Domain: Construction\n",
      "\n"
     ]
    }
   ],
   "source": [
    "def get_employees():\n",
    "    employee_data = [\n",
    "        {\"full_name\": \"John Doe\", \"company\": \"Company 1\"},\n",
    "        {\"full_name\": \"Tom Smith\", \"company\": \"Company 2\"},\n",
    "        {\"full_name\": \"Andrew Sebastian\", \"company\": \"Company 2\"}\n",
    "    ]\n",
    "\n",
    "    company_detail_list = {\n",
    "        'Company 1': {\n",
    "            'name': 'Company 1',\n",
    "            'domain': 'Retail'\n",
    "        },\n",
    "        'Company 2': {\n",
    "            'name': 'Company 2',\n",
    "            'domain': 'Construction'\n",
    "        },\n",
    "        'Company 3': {\n",
    "            'name': 'Company 3',\n",
    "            'domain': 'Healthcare'\n",
    "        }\n",
    "    }\n",
    "\n",
    "    for employee in employee_data:\n",
    "        company = employee['company']\n",
    "        employee['domain'] = company_detail_list[company]['domain']\n",
    "\n",
    "    return employee_data\n",
    "\n",
    "employees = get_employees()\n",
    "\n",
    "for employee in employees:\n",
    "    print(f\"Nama_Lengkap: {employee['full_name']}\")\n",
    "    print(f\"Nama_Perusahaan: {employee['company']}\")\n",
    "    print(f\"Nama_Domain: {employee['domain']}\")\n",
    "    print() "
   ]
  },
  {
   "cell_type": "markdown",
   "id": "4e551eaa-9ab6-42ef-91f4-f0490606dcc8",
   "metadata": {},
   "source": [
    "##NOMOR4##"
   ]
  },
  {
   "cell_type": "code",
   "execution_count": 6,
   "id": "62e9182d-c68d-4106-a312-c75cc044c781",
   "metadata": {},
   "outputs": [
    {
     "name": "stdout",
     "output_type": "stream",
     "text": [
      "Perusahaan: Company 1\n",
      "Nama_Karyawan:\n",
      "- John Doe\n",
      "\n",
      "Perusahaan: Company 2\n",
      "Nama_Karyawan:\n",
      "- Tom Smith\n",
      "- Andrew Sebastian\n",
      "\n",
      "Perusahaan: Company 3\n",
      "Nama_Karyawan:\n",
      "- data karyawan tidak ada\n",
      "\n"
     ]
    }
   ],
   "source": [
    "def get_employees_by_company():\n",
    "    employee_data = [\n",
    "        {\"full_name\": \"John Doe\", \"company\": \"Company 1\"},\n",
    "        {\"full_name\": \"Tom Smith\", \"company\": \"Company 2\"},\n",
    "        {\"full_name\": \"Andrew Sebastian\", \"company\": \"Company 2\"}\n",
    "    ]\n",
    "\n",
    "    company_employees = {}\n",
    "\n",
    "    company_detail_list = ['Company 1', 'Company 2', 'Company 3']\n",
    "    for company in company_detail_list:\n",
    "        company_employees[company] = []\n",
    "\n",
    "    for employee in employee_data:\n",
    "        company = employee['company']\n",
    "        company_employees[company].append(employee['full_name'])\n",
    "\n",
    "    result = []\n",
    "    for company, employees in company_employees.items():\n",
    "        result.append({\"company\": company, \"employees\": employees})\n",
    "    \n",
    "    return result\n",
    "\n",
    "\n",
    "\n",
    "companies_with_employees = get_employees_by_company()\n",
    "\n",
    "for company in companies_with_employees:\n",
    "    print(f\"Perusahaan: {company['company']}\")\n",
    "    print(\"Nama_Karyawan:\")\n",
    "    if company['employees']:\n",
    "        for employee in company['employees']:\n",
    "            print(f\"- {employee}\")\n",
    "    else:\n",
    "        print(\"- data karyawan tidak ada\")\n",
    "    print() \n",
    "\n"
   ]
  },
  {
   "cell_type": "markdown",
   "id": "8a22c44d-fc09-4fb4-937e-796f2ffd90bb",
   "metadata": {},
   "source": [
    "##PRE-PROCESSING DATA##"
   ]
  },
  {
   "cell_type": "code",
   "execution_count": 7,
   "id": "507ea295-8088-44c1-b6e3-e44cf8b3ce70",
   "metadata": {},
   "outputs": [
    {
     "name": "stdout",
     "output_type": "stream",
     "text": [
      "   State_New York  State_Florida  State_California  R&D Spend  Administration  \\\n",
      "1             0.0            0.0               1.0  -1.603505       -0.277473   \n",
      "2             0.0            1.0               0.0   0.000000       -1.125502   \n",
      "3             1.0            0.0               0.0   0.128699       -0.920784   \n",
      "4             1.0            0.0               0.0  -0.166970        0.039410   \n",
      "5             1.0            0.0               0.0  -0.964655       -0.628156   \n",
      "6             0.0            1.0               0.0   1.134351        1.748600   \n",
      "7             1.0            0.0               0.0   1.472079        1.163905   \n",
      "\n",
      "   Marketing Spend    Profit       Tax  \n",
      "1        -1.571128 -1.519197 -1.717386  \n",
      "2         0.662403  1.024661  0.662693  \n",
      "3         1.345499  0.158454  1.026926  \n",
      "4        -1.136905 -0.500921 -1.057588  \n",
      "5         0.103519 -1.102077 -0.279959  \n",
      "6         0.931224  0.601102  1.145224  \n",
      "7        -0.334612  1.337977  0.220091  \n"
     ]
    }
   ],
   "source": [
    "\n",
    "##PROCESSING DATA##\n",
    "import pandas as pd\n",
    "from sklearn.compose import ColumnTransformer\n",
    "from sklearn.preprocessing import OneHotEncoder, StandardScaler\n",
    "\n",
    "data_startup = pd.DataFrame({\n",
    "    'R&D Spend': [1000.23, float('nan'), 76253.86, 63408.86, 28754.33, 119943.24, 134615.46],\n",
    "    'Administration': [124153.04, 110594.11, 113867.30, 129219.61, 118546.05, 156547.42, 147198.87],\n",
    "    'Marketing Spend': [1903.93, 229160.95, 298664.47, 46085.25, 172295.67, 256512.92, 127716.82],\n",
    "    'State': ['New York', 'Florida', 'California', 'California', 'California', 'Florida', 'California'],\n",
    "    'Profit': [64926.08, 146121.95, 118474.03, 97427.84, 78239.91, 132602.65, 156122.51]\n",
    "})\n",
    "\n",
    "\n",
    "data_startup['R&D Spend'].fillna(data_startup['R&D Spend'].mean(), inplace=True)\n",
    "\n",
    "ct = ColumnTransformer(transformers=[('encoder', OneHotEncoder(), ['State'])], remainder='passthrough')\n",
    "data_startup = pd.DataFrame(ct.fit_transform(data_startup))\n",
    "\n",
    "data_startup.columns = ['State_New York', 'State_Florida', 'State_California', 'R&D Spend', 'Administration', 'Marketing Spend', 'Profit']\n",
    "\n",
    "data_startup['Tax'] = (data_startup['Profit'] + data_startup['Marketing Spend'] + data_startup['Administration']) * 0.05\n",
    "\n",
    "\n",
    "scaler = StandardScaler()\n",
    "data_startup[['R&D Spend', 'Administration', 'Marketing Spend', 'Profit', 'Tax']] = scaler.fit_transform(data_startup[['R&D Spend', 'Administration', 'Marketing Spend', 'Profit', 'Tax']])\n",
    "\n",
    "\n",
    "\n",
    "data_startup.index += 1\n",
    "\n",
    "print(data_startup)"
   ]
  },
  {
   "cell_type": "code",
   "execution_count": null,
   "id": "e515e457-0ad0-4add-9b30-a5b1e88a986e",
   "metadata": {},
   "outputs": [],
   "source": []
  }
 ],
 "metadata": {
  "kernelspec": {
   "display_name": "Python 3 (ipykernel)",
   "language": "python",
   "name": "python3"
  },
  "language_info": {
   "codemirror_mode": {
    "name": "ipython",
    "version": 3
   },
   "file_extension": ".py",
   "mimetype": "text/x-python",
   "name": "python",
   "nbconvert_exporter": "python",
   "pygments_lexer": "ipython3",
   "version": "3.11.7"
  }
 },
 "nbformat": 4,
 "nbformat_minor": 5
}
